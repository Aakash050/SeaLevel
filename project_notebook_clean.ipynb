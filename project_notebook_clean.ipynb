{
 "cells": [
  {
   "cell_type": "markdown",
   "id": "dc314fb5",
   "metadata": {
    "id": "uAACZwQYf1Qy"
   },
   "source": [
    "\n",
    "**Comparative Performance Analysis for Predicting Sea Level Rise Using Linear Regression and Support Vector Machine**\n",
    "Objective:\n",
    "In this assignment, you will analyze sea level data to predict the rise in sea levels over time using linear regression and support vector machine (SVM). You will perform data cleaning, modeling, and visualize the results. Your predictions will be used to estimate future sea levels.\n",
    "\n",
    "**Deliverable** Upload your completed code to Canvas within the due date.\n",
    "\n",
    "Dataset:\n",
    "The dataset contains historical data on sea level measurements from the CSIRO (Commonwealth Scientific and Industrial Research Organisation). The columns of the dataset are as follows:\n",
    "\n",
    "-- Year: The year of the measurement.\n",
    "\n",
    "-- CSIRO Adjusted Sea Level: The adjusted sea level measurement (in millimeters).\n",
    "\n",
    "-- Lower Error Bound: The lower bound of the sea level measurement.\n",
    "\n",
    "-- Upper Error Bound: The upper bound of the sea level measurement.\n",
    "\n",
    "-- NOAA Adjusted Sea Level: The NOAA adjusted sea level (containing missing values).\n",
    "\n",
    "### Tasks: Write the code for each of the following:\n",
    "\n",
    "* Task 1: Data Exploration and Preprocessing\n",
    "* \n",
    "1.1\n",
    "-- Load and Explore the Data:\n",
    "  \n",
    "1.2\n",
    "-- Load the dataset into a Pandas DataFrame.\n",
    "\n",
    "1.3\n",
    "-- Display the first few rows of the dataset to understand its structure.\n",
    "\n",
    "1.4\n",
    "-- Identify and handle any missing data.\n",
    "\n",
    "1.5\n",
    "-- Describe the dataset and summarize the statistics:\n",
    "\n",
    "1.6\n",
    "-- Identify any potential outliers or anomalies in the data.\n",
    "\n",
    "\n",
    "* Task 2: Focused Prediction from Year 2000 to Present\n",
    "  \n",
    "  2.1\n",
    "-- Filter the data from the year 2000 to the most recent year available in the dataset.\n",
    "  \n",
    "2.2\n",
    "-- Shuffle the dataset and Split the dataset into 70% train and 30% test.\n",
    "\n",
    "2.3\n",
    "-- Fit a linear regression and SVM model based on the 70% of the dataset (from 2000 to the most recent year). Use the SKLearn library.\n",
    "\n",
    "2.4\n",
    "-- Visualize the observed data and the fitted regression line for this range of years.\n",
    "\n",
    "2.5\n",
    "-- Display the values of all the weights (coefficients) obtained from Linear Regression and SVM.\n",
    "\n",
    "\n",
    "* Task 3: Predict Sea Level in 2040 Using the SVM and Linear Regression:\n",
    "  \n",
    "3.1\n",
    "-- Using the linear regression model and SVM (from the year 2000 onwards), predict the sea level rise using the 30% test.\n",
    "\n",
    "3.2\n",
    "-- Report the predicted sea levels from both the models.\n",
    "\n",
    "* Task 4: Reflection and Analysis\n",
    "  \n",
    "4.1\n",
    "-- Compare the predicted sea level for 2030  and 2040 from both the models.\n",
    "\n",
    "4.2\n",
    "-- Discuss how the different models might lead to different predictions and why this is the case.\n",
    "\n",
    "\n",
    "* Task 5: Interpretation of Results:\n",
    "  \n",
    "5.1\n",
    "-- Report a metric that you used to compare the performance of the Linear Regression and SVM. Which model performed the best?\n",
    "\n",
    "5.2\n",
    "-- Explain how the regression models are helping us understand the relationship between the year and the sea level rise.\n",
    "\n"
   ]
  },
  {
   "cell_type": "code",
   "execution_count": null,
   "id": "dccb61f2",
   "metadata": {},
   "outputs": [],
   "source": [
    "import pandas as pd\n",
    "import numpy as np\n",
    "import seaborn as sns\n",
    "from sklearn.model_selection import train_test_split\n",
    "from sklearn.linear_model import LinearRegression\n",
    "from sklearn.svm import SVR\n",
    "from sklearn.metrics import mean_squared_error\n",
    "import matplotlib.pyplot as plt"
   ]
  },
  {
   "cell_type": "markdown",
   "id": "119d2ce0",
   "metadata": {},
   "source": [
    "Task 1"
   ]
  },
  {
   "cell_type": "markdown",
   "id": "9414c523",
   "metadata": {},
   "source": [
    "1.1 and 1.2"
   ]
  },
  {
   "cell_type": "code",
   "execution_count": null,
   "id": "dfabea28",
   "metadata": {},
   "outputs": [],
   "source": [
    "df = pd.read_csv(\"epa-sea-level.csv\")\n",
    "df = df[[\"Year\",\"CSIRO Adjusted Sea Level\"]]"
   ]
  },
  {
   "cell_type": "markdown",
   "id": "4f389be6",
   "metadata": {},
   "source": [
    "1.3"
   ]
  },
  {
   "cell_type": "code",
   "execution_count": null,
   "id": "e485067f",
   "metadata": {},
   "outputs": [],
   "source": [
    "df.head()"
   ]
  },
  {
   "cell_type": "markdown",
   "id": "54b4baab",
   "metadata": {},
   "source": [
    "1.4"
   ]
  },
  {
   "cell_type": "code",
   "execution_count": null,
   "id": "150ac0a5",
   "metadata": {},
   "outputs": [],
   "source": [
    "df.dropna()"
   ]
  },
  {
   "cell_type": "markdown",
   "id": "80d79390",
   "metadata": {},
   "source": [
    "1.5"
   ]
  },
  {
   "cell_type": "code",
   "execution_count": null,
   "id": "2498e110",
   "metadata": {},
   "outputs": [],
   "source": [
    "df.describe()"
   ]
  },
  {
   "cell_type": "code",
   "execution_count": null,
   "id": "07f97490",
   "metadata": {},
   "outputs": [],
   "source": [
    "ax = df[\"CSIRO Adjusted Sea Level\"].plot.hist(bins=15,figsize=(10,5),alpha=0.5,color='#1A4D3B');"
   ]
  },
  {
   "cell_type": "markdown",
   "id": "192c4210",
   "metadata": {},
   "source": [
    "Appear to have right skewed data, with a lot of variation. We don't seem to have any apparent outliers (seen in boxplot)."
   ]
  },
  {
   "cell_type": "markdown",
   "id": "9ac26db4",
   "metadata": {},
   "source": [
    "1.6"
   ]
  },
  {
   "cell_type": "code",
   "execution_count": null,
   "id": "cc001b5c",
   "metadata": {},
   "outputs": [],
   "source": [
    "Q1 = df[\"CSIRO Adjusted Sea Level\"].quantile(0.25)\n",
    "Q3 = df[\"CSIRO Adjusted Sea Level\"].quantile(0.75)\n",
    "IQR = Q3 - Q1\n",
    "outliers = ((df[\"CSIRO Adjusted Sea Level\"] < (Q1 - 1.5 * IQR)) | (df[\"CSIRO Adjusted Sea Level\"] > (Q3 + 1.5 * IQR)))\n",
    "df_outliers = df[\"CSIRO Adjusted Sea Level\"][outliers]\n",
    "print(df_outliers)"
   ]
  },
  {
   "cell_type": "code",
   "execution_count": null,
   "id": "4e2353ef",
   "metadata": {},
   "outputs": [],
   "source": [
    "sns.catplot(y = \"CSIRO Adjusted Sea Level\", kind=\"box\", data=df);\n"
   ]
  },
  {
   "cell_type": "markdown",
   "id": "7cba9c16",
   "metadata": {},
   "source": [
    "Don't appear to have any outliers, our outlier code gives us an empty list, and our box plot doesn't have any outliers outside of our IQR."
   ]
  },
  {
   "cell_type": "markdown",
   "id": "cd789219",
   "metadata": {},
   "source": [
    "Task 2"
   ]
  },
  {
   "cell_type": "markdown",
   "id": "857e23a8",
   "metadata": {},
   "source": [
    "2.1"
   ]
  },
  {
   "cell_type": "code",
   "execution_count": null,
   "id": "06d74438",
   "metadata": {},
   "outputs": [],
   "source": [
    "df = df[df[\"Year\"]>=2000]"
   ]
  },
  {
   "cell_type": "markdown",
   "id": "0aeff2cf",
   "metadata": {},
   "source": [
    "2.2"
   ]
  },
  {
   "cell_type": "code",
   "execution_count": null,
   "id": "e7d9687e",
   "metadata": {},
   "outputs": [],
   "source": [
    "df_shuffled = df.sample(frac=1, random_state=42).reset_index(drop=True)\n",
    "train_df, test_df = train_test_split(df_shuffled, test_size=0.3, random_state=42)\n",
    "\n",
    "X_train = train_df[[\"Year\"]].values\n",
    "y_train = train_df[\"CSIRO Adjusted Sea Level\"].values\n",
    "X_test = test_df[[\"Year\"]].values\n",
    "y_test = test_df[\"CSIRO Adjusted Sea Level\"].values"
   ]
  },
  {
   "cell_type": "markdown",
   "id": "5a4c8ced",
   "metadata": {},
   "source": [
    "2.3"
   ]
  },
  {
   "cell_type": "code",
   "execution_count": null,
   "id": "712d1b9f",
   "metadata": {},
   "outputs": [],
   "source": [
    "lin_model = LinearRegression()\n",
    "lin_model.fit(X_train, y_train)\n",
    "\n",
    "svm_model = SVR(kernel = 'linear')\n",
    "svm_model.fit(X_train, y_train)"
   ]
  },
  {
   "cell_type": "markdown",
   "id": "0a413a5e",
   "metadata": {},
   "source": [
    "2.4"
   ]
  },
  {
   "cell_type": "code",
   "execution_count": null,
   "id": "ba8866b2",
   "metadata": {},
   "outputs": [],
   "source": [
    "lin_pred_plot = lin_model.predict(X_train)\n",
    "svm_pred_plot = svm_model.predict(X_train)\n",
    "\n",
    "plt.figure(figsize=(10, 6))\n",
    "plt.scatter(df[\"Year\"], df[\"CSIRO Adjusted Sea Level\"], color='lightblue', label=\"Observed Data\")\n",
    "plt.plot(X_train, lin_pred_plot, color='red', label=\"Linear Regression\")\n",
    "plt.plot(X_train, svm_pred_plot, color='green', linestyle='--', label=\"SVM Regression\")\n",
    "plt.xlabel(\"Year\")\n",
    "plt.ylabel(\"CSIRO Adjusted Sea Level (mm)\")\n",
    "plt.title(\"Sea Level Prediction (2000–Present): Linear vs SVM\")\n",
    "plt.legend()\n",
    "plt.grid(True)\n",
    "plt.tight_layout()\n",
    "\n",
    "#This is for the train dataset, the test data set (the actual answer is below)"
   ]
  },
  {
   "cell_type": "markdown",
   "id": "2edacbfc",
   "metadata": {},
   "source": [
    "2.5"
   ]
  },
  {
   "cell_type": "code",
   "execution_count": null,
   "id": "84e45ab7",
   "metadata": {},
   "outputs": [],
   "source": [
    "lin_pred_plot = lin_model.predict(X_test)\n",
    "svm_pred_plot = svm_model.predict(X_test)\n",
    "\n",
    "plt.figure(figsize=(10, 6))\n",
    "plt.scatter(df[\"Year\"], df[\"CSIRO Adjusted Sea Level\"], color='lightblue', label=\"Observed Data\")\n",
    "plt.plot(X_test, lin_pred_plot, color='red', label=\"Linear Regression\")\n",
    "plt.plot(X_test, svm_pred_plot, color='green', linestyle='--', label=\"SVM Regression\")\n",
    "plt.xlabel(\"Year\")\n",
    "plt.ylabel(\"CSIRO Adjusted Sea Level (mm)\")\n",
    "plt.title(\"Sea Level Prediction (2000–Present): Linear vs SVM\")\n",
    "plt.legend()\n",
    "plt.grid(True)\n",
    "plt.tight_layout()\n",
    "plt.show()"
   ]
  },
  {
   "cell_type": "code",
   "execution_count": null,
   "id": "06e73e2d",
   "metadata": {},
   "outputs": [],
   "source": [
    "print(\"Linear Regression Coefficients:\")\n",
    "print(\"Intercept\", lin_model.intercept_)\n",
    "print(\"Coefficient\", lin_model.coef_)\n",
    "\n",
    "print(\"SVM Coefficients:\")\n",
    "print(\"Intercept\", svm_model.intercept_)\n",
    "print(\"Slope\", svm_model.coef_)"
   ]
  },
  {
   "cell_type": "markdown",
   "id": "e123bd0f",
   "metadata": {},
   "source": [
    "Task 3"
   ]
  },
  {
   "cell_type": "markdown",
   "id": "0bc5f1e8",
   "metadata": {},
   "source": [
    "3.1 "
   ]
  },
  {
   "cell_type": "code",
   "execution_count": null,
   "id": "061aff43",
   "metadata": {},
   "outputs": [],
   "source": [
    "year_2040 = np.array([[2040]])\n",
    "year_max = np.array([[X_test.max()]])\n",
    "print(lin_model.predict(year_2040) - lin_model.predict(year_max)) \n",
    "print(svm_model.predict(year_2040) - svm_model.predict(year_max))"
   ]
  },
  {
   "cell_type": "markdown",
   "id": "200c1134",
   "metadata": {},
   "source": [
    "3.2"
   ]
  },
  {
   "cell_type": "code",
   "execution_count": null,
   "id": "9c0d4202",
   "metadata": {},
   "outputs": [],
   "source": [
    "print(lin_model.predict(year_2040))\n",
    "print(svm_model.predict(year_2040))"
   ]
  },
  {
   "cell_type": "markdown",
   "id": "cb3fc72b",
   "metadata": {},
   "source": [
    "Task 4"
   ]
  },
  {
   "cell_type": "markdown",
   "id": "d40b22d7",
   "metadata": {},
   "source": [
    "4.1"
   ]
  },
  {
   "cell_type": "code",
   "execution_count": null,
   "id": "95bb4381",
   "metadata": {},
   "outputs": [],
   "source": [
    "year_2030 = np.array([[2030]])\n",
    "print(\"2030 lin model\", lin_model.predict(year_2030))\n",
    "print(\"2030 svm model\", svm_model.predict(year_2030))\n",
    "print(\"2040 lin model\", lin_model.predict(year_2040))\n",
    "print(\"2040 svm model\", svm_model.predict(year_2040))"
   ]
  },
  {
   "cell_type": "markdown",
   "id": "c92f23af",
   "metadata": {},
   "source": [
    "4.2"
   ]
  },
  {
   "cell_type": "markdown",
   "id": "f9687dba",
   "metadata": {},
   "source": [
    "The differences in the model can be because the linear model tries its best to minimize the sum of squares error from all data points, while our svm model does its best to minimize errors outside of our margin lines. Meaning, our linear model includes errors from all points, while our svm model doesn't include errrors inside margin lines, and as a result, our results can be slightly different. "
   ]
  },
  {
   "cell_type": "markdown",
   "id": "b1bfd05c",
   "metadata": {},
   "source": [
    "Task 5"
   ]
  },
  {
   "cell_type": "markdown",
   "id": "2903a8fa",
   "metadata": {},
   "source": [
    "5.1 "
   ]
  },
  {
   "cell_type": "code",
   "execution_count": null,
   "id": "489fa357",
   "metadata": {},
   "outputs": [],
   "source": [
    "mse_lin = mean_squared_error(y_test, y_pred_lin)\n",
    "mse_svm = mean_squared_error(y_test, y_pred_svm)\n",
    "print(\"Linear MSE\", mse_lin)\n",
    "print(\"SVM MSE\", mse_svm)"
   ]
  },
  {
   "cell_type": "markdown",
   "id": "c4945448",
   "metadata": {},
   "source": [
    "We see that SVM performed slightly worse compared to our linear model. "
   ]
  },
  {
   "cell_type": "markdown",
   "id": "95570e7a",
   "metadata": {},
   "source": [
    "5.2"
   ]
  },
  {
   "cell_type": "markdown",
   "id": "224818f5",
   "metadata": {},
   "source": [
    "The regression model takes our data points, and creates a model that minimizes the amount of error, which allows us to predict the next data point as accurately as possible. Depending on the coeffiecients we get out, we start to understand if our model is linear or not, how strong our relationship is, our baseline values, and most importantly, how much our output (in this case sea level) changes depending on a 1 unit increase (in this case 1 year increase) in our explanatory variable. Here, we see that a 1 year increase is associated with a rise in sea level of roughly 0.16 inches for both models. "
   ]
  }
 ],
 "metadata": {
  "colab": {
   "provenance": []
  },
  "kernelspec": {
   "display_name": "Python 3 (ipykernel)",
   "language": "python",
   "name": "python3"
  },
  "language_info": {
   "codemirror_mode": {
    "name": "ipython",
    "version": 3
   },
   "file_extension": ".py",
   "mimetype": "text/x-python",
   "name": "python",
   "nbconvert_exporter": "python",
   "pygments_lexer": "ipython3",
   "version": "3.12.7"
  }
 },
 "nbformat": 4,
 "nbformat_minor": 5
}
