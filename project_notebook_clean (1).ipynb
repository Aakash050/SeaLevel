{
 "cells": [
  {
   "cell_type": "code",
   "execution_count": null,
   "id": "dccb61f2",
   "metadata": {},
   "outputs": [],
   "source": [
    "#Preliminary Steps"
   ]
  },
  {
   "cell_type": "code",
   "execution_count": null,
   "id": "79295db8-6b5f-4983-bbce-2cf3e0893bcd",
   "metadata": {},
   "outputs": [],
   "source": [
    "import pandas as pd\n",
    "import numpy as np\n",
    "import seaborn as sns\n",
    "from sklearn.model_selection import train_test_split\n",
    "from sklearn.linear_model import LinearRegression\n",
    "from sklearn.svm import SVR\n",
    "from sklearn.metrics import mean_squared_error\n",
    "import matplotlib.pyplot as plt"
   ]
  },
  {
   "cell_type": "code",
   "execution_count": null,
   "id": "dfabea28",
   "metadata": {},
   "outputs": [],
   "source": [
    "df = pd.read_csv(\"epa-sea-level.csv\")\n",
    "df = df[[\"Year\",\"CSIRO Adjusted Sea Level\"]]"
   ]
  },
  {
   "cell_type": "markdown",
   "id": "4f389be6",
   "metadata": {},
   "source": [
    "Check data"
   ]
  },
  {
   "cell_type": "code",
   "execution_count": null,
   "id": "e485067f",
   "metadata": {},
   "outputs": [],
   "source": [
    "df.head()"
   ]
  },
  {
   "cell_type": "markdown",
   "id": "54b4baab",
   "metadata": {},
   "source": [
    "Preprocessing"
   ]
  },
  {
   "cell_type": "code",
   "execution_count": null,
   "id": "150ac0a5",
   "metadata": {},
   "outputs": [],
   "source": [
    "df.dropna()"
   ]
  },
  {
   "cell_type": "markdown",
   "id": "80d79390",
   "metadata": {},
   "source": [
    "Check data"
   ]
  },
  {
   "cell_type": "code",
   "execution_count": null,
   "id": "2498e110",
   "metadata": {},
   "outputs": [],
   "source": [
    "df.describe()"
   ]
  },
  {
   "cell_type": "code",
   "execution_count": null,
   "id": "07f97490",
   "metadata": {},
   "outputs": [],
   "source": [
    "ax = df[\"CSIRO Adjusted Sea Level\"].plot.hist(bins=15,figsize=(10,5),alpha=0.5,color='#1A4D3B');"
   ]
  },
  {
   "cell_type": "markdown",
   "id": "192c4210",
   "metadata": {},
   "source": [
    "Appear to have right skewed data, with a lot of variation. We don't seem to have any apparent outliers (seen in boxplot)."
   ]
  },
  {
   "cell_type": "markdown",
   "id": "9ac26db4",
   "metadata": {},
   "source": [
    "Checking for outliers"
   ]
  },
  {
   "cell_type": "code",
   "execution_count": null,
   "id": "cc001b5c",
   "metadata": {},
   "outputs": [],
   "source": [
    "Q1 = df[\"CSIRO Adjusted Sea Level\"].quantile(0.25)\n",
    "Q3 = df[\"CSIRO Adjusted Sea Level\"].quantile(0.75)\n",
    "IQR = Q3 - Q1\n",
    "outliers = ((df[\"CSIRO Adjusted Sea Level\"] < (Q1 - 1.5 * IQR)) | (df[\"CSIRO Adjusted Sea Level\"] > (Q3 + 1.5 * IQR)))\n",
    "df_outliers = df[\"CSIRO Adjusted Sea Level\"][outliers]\n",
    "print(df_outliers)"
   ]
  },
  {
   "cell_type": "code",
   "execution_count": null,
   "id": "4e2353ef",
   "metadata": {},
   "outputs": [],
   "source": [
    "sns.catplot(y = \"CSIRO Adjusted Sea Level\", kind=\"box\", data=df);\n"
   ]
  },
  {
   "cell_type": "markdown",
   "id": "7cba9c16",
   "metadata": {},
   "source": [
    "Don't appear to have any outliers, our outlier code gives us an empty list, and our box plot doesn't have any outliers outside of our IQR."
   ]
  },
  {
   "cell_type": "markdown",
   "id": "857e23a8",
   "metadata": {},
   "source": [
    "Data filtering for years greater than or equal to 2000 (I want to see how this plays out with a smaller dataset"
   ]
  },
  {
   "cell_type": "code",
   "execution_count": null,
   "id": "06d74438",
   "metadata": {},
   "outputs": [],
   "source": [
    "df = df[df[\"Year\"]>=2000]"
   ]
  },
  {
   "cell_type": "markdown",
   "id": "0aeff2cf",
   "metadata": {},
   "source": [
    "Train/test split"
   ]
  },
  {
   "cell_type": "code",
   "execution_count": null,
   "id": "e7d9687e",
   "metadata": {},
   "outputs": [],
   "source": [
    "df_shuffled = df.sample(frac=1, random_state=42).reset_index(drop=True)\n",
    "train_df, test_df = train_test_split(df_shuffled, test_size=0.3, random_state=42)\n",
    "\n",
    "X_train = train_df[[\"Year\"]].values\n",
    "y_train = train_df[\"CSIRO Adjusted Sea Level\"].values\n",
    "X_test = test_df[[\"Year\"]].values\n",
    "y_test = test_df[\"CSIRO Adjusted Sea Level\"].values"
   ]
  },
  {
   "cell_type": "markdown",
   "id": "5a4c8ced",
   "metadata": {},
   "source": [
    "Using LR and SVM"
   ]
  },
  {
   "cell_type": "code",
   "execution_count": null,
   "id": "712d1b9f",
   "metadata": {},
   "outputs": [],
   "source": [
    "lin_model = LinearRegression()\n",
    "lin_model.fit(X_train, y_train)\n",
    "\n",
    "svm_model = SVR(kernel = 'linear')\n",
    "svm_model.fit(X_train, y_train)"
   ]
  },
  {
   "cell_type": "code",
   "execution_count": null,
   "id": "ba8866b2",
   "metadata": {},
   "outputs": [],
   "source": [
    "lin_pred_plot = lin_model.predict(X_train)\n",
    "svm_pred_plot = svm_model.predict(X_train)\n",
    "\n",
    "plt.figure(figsize=(10, 6))\n",
    "plt.scatter(df[\"Year\"], df[\"CSIRO Adjusted Sea Level\"], color='lightblue', label=\"Observed Data\")\n",
    "plt.plot(X_train, lin_pred_plot, color='red', label=\"Linear Regression\")\n",
    "plt.plot(X_train, svm_pred_plot, color='green', linestyle='--', label=\"SVM Regression\")\n",
    "plt.xlabel(\"Year\")\n",
    "plt.ylabel(\"CSIRO Adjusted Sea Level (mm)\")\n",
    "plt.title(\"Sea Level Prediction (2000–Present): Linear vs SVM\")\n",
    "plt.legend()\n",
    "plt.grid(True)\n",
    "plt.tight_layout()\n",
    "\n",
    "#This is for the train dataset, the test data set (the actual answer is below)"
   ]
  },
  {
   "cell_type": "code",
   "execution_count": null,
   "id": "84e45ab7",
   "metadata": {},
   "outputs": [],
   "source": [
    "lin_pred_plot = lin_model.predict(X_test)\n",
    "svm_pred_plot = svm_model.predict(X_test)\n",
    "\n",
    "plt.figure(figsize=(10, 6))\n",
    "plt.scatter(df[\"Year\"], df[\"CSIRO Adjusted Sea Level\"], color='lightblue', label=\"Observed Data\")\n",
    "plt.plot(X_test, lin_pred_plot, color='red', label=\"Linear Regression\")\n",
    "plt.plot(X_test, svm_pred_plot, color='green', linestyle='--', label=\"SVM Regression\")\n",
    "plt.xlabel(\"Year\")\n",
    "plt.ylabel(\"CSIRO Adjusted Sea Level (mm)\")\n",
    "plt.title(\"Sea Level Prediction (2000–Present): Linear vs SVM\")\n",
    "plt.legend()\n",
    "plt.grid(True)\n",
    "plt.tight_layout()\n",
    "plt.show()"
   ]
  },
  {
   "cell_type": "code",
   "execution_count": null,
   "id": "06e73e2d",
   "metadata": {},
   "outputs": [],
   "source": [
    "print(\"Linear Regression Coefficients:\")\n",
    "print(\"Intercept\", lin_model.intercept_)\n",
    "print(\"Coefficient\", lin_model.coef_)\n",
    "\n",
    "print(\"SVM Coefficients:\")\n",
    "print(\"Intercept\", svm_model.intercept_)\n",
    "print(\"Slope\", svm_model.coef_)"
   ]
  },
  {
   "cell_type": "code",
   "execution_count": null,
   "id": "061aff43",
   "metadata": {},
   "outputs": [],
   "source": [
    "year_2040 = np.array([[2040]])\n",
    "year_max = np.array([[X_test.max()]])\n",
    "print(lin_model.predict(year_2040) - lin_model.predict(year_max)) \n",
    "print(svm_model.predict(year_2040) - svm_model.predict(year_max))"
   ]
  },
  {
   "cell_type": "markdown",
   "id": "e6bc5841-cebd-4683-bfc2-ae536593218f",
   "metadata": {},
   "source": [
    "years of 2040 and 2030"
   ]
  },
  {
   "cell_type": "code",
   "execution_count": null,
   "id": "9c0d4202",
   "metadata": {},
   "outputs": [],
   "source": [
    "print(lin_model.predict(year_2040))\n",
    "print(svm_model.predict(year_2040))"
   ]
  },
  {
   "cell_type": "code",
   "execution_count": null,
   "id": "95bb4381",
   "metadata": {},
   "outputs": [],
   "source": [
    "year_2030 = np.array([[2030]])\n",
    "print(\"2030 lin model\", lin_model.predict(year_2030))\n",
    "print(\"2030 svm model\", svm_model.predict(year_2030))\n",
    "print(\"2040 lin model\", lin_model.predict(year_2040))\n",
    "print(\"2040 svm model\", svm_model.predict(year_2040))"
   ]
  },
  {
   "cell_type": "markdown",
   "id": "f9687dba",
   "metadata": {},
   "source": [
    "Possible explanation: The differences in the model can be because the linear model tries its best to minimize the sum of squares error from all data points, while our svm model does its best to minimize errors outside of our margin lines. Meaning, our linear model includes errors from all points, while our svm model doesn't include errrors inside margin lines, and as a result, our results can be slightly different. "
   ]
  },
  {
   "cell_type": "markdown",
   "id": "2903a8fa",
   "metadata": {},
   "source": [
    "Metrics"
   ]
  },
  {
   "cell_type": "code",
   "execution_count": null,
   "id": "489fa357",
   "metadata": {},
   "outputs": [],
   "source": [
    "mse_lin = mean_squared_error(y_test, y_pred_lin)\n",
    "mse_svm = mean_squared_error(y_test, y_pred_svm)\n",
    "print(\"Linear MSE\", mse_lin)\n",
    "print(\"SVM MSE\", mse_svm)"
   ]
  },
  {
   "cell_type": "markdown",
   "id": "c4945448",
   "metadata": {},
   "source": [
    "We see that SVM performed slightly worse compared to our linear model. "
   ]
  },
  {
   "cell_type": "markdown",
   "id": "224818f5",
   "metadata": {},
   "source": [
    "Interpretation: The regression model takes our data points, and creates a model that minimizes the amount of error, which allows us to predict the next data point as accurately as possible. Depending on the coeffiecients we get out, we start to understand if our model is linear or not, how strong our relationship is, our baseline values, and most importantly, how much our output (in this case sea level) changes depending on a 1 unit increase (in this case 1 year increase) in our explanatory variable. Here, we see that a 1 year increase is associated with a rise in sea level of roughly 0.16 inches for both models. "
   ]
  }
 ],
 "metadata": {
  "colab": {
   "provenance": []
  },
  "kernelspec": {
   "display_name": "Python 3 (ipykernel)",
   "language": "python",
   "name": "python3"
  },
  "language_info": {
   "codemirror_mode": {
    "name": "ipython",
    "version": 3
   },
   "file_extension": ".py",
   "mimetype": "text/x-python",
   "name": "python",
   "nbconvert_exporter": "python",
   "pygments_lexer": "ipython3",
   "version": "3.12.7"
  }
 },
 "nbformat": 4,
 "nbformat_minor": 5
}
